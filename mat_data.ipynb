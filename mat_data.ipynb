{
 "cells": [
  {
   "cell_type": "code",
   "execution_count": 1,
   "metadata": {},
   "outputs": [],
   "source": [
    "from scipy.io import loadmat\n",
    "import numpy as np\n",
    "import matplotlib.pyplot as plt"
   ]
  },
  {
   "cell_type": "code",
   "execution_count": 2,
   "metadata": {},
   "outputs": [],
   "source": [
    "m = loadmat(\"/Users/mac/Desktop/problem_smooth/wan_pde_2d\") "
   ]
  },
  {
   "cell_type": "code",
   "execution_count": 3,
   "metadata": {},
   "outputs": [
    {
     "data": {
      "text/plain": [
       "{'__header__': b'MATLAB 5.0 MAT-file Platform: posix, Created on: Thu May 14 04:26:56 2020',\n",
       " '__version__': '1.0',\n",
       " '__globals__': [],\n",
       " 'mesh': array([[[-1.        , -0.99215686, -0.98431373, ...,  0.98431373,\n",
       "           0.99215686,  1.        ],\n",
       "         [-1.        , -0.99215686, -0.98431373, ...,  0.98431373,\n",
       "           0.99215686,  1.        ],\n",
       "         [-1.        , -0.99215686, -0.98431373, ...,  0.98431373,\n",
       "           0.99215686,  1.        ],\n",
       "         ...,\n",
       "         [-1.        , -0.99215686, -0.98431373, ...,  0.98431373,\n",
       "           0.99215686,  1.        ],\n",
       "         [-1.        , -0.99215686, -0.98431373, ...,  0.98431373,\n",
       "           0.99215686,  1.        ],\n",
       "         [-1.        , -0.99215686, -0.98431373, ...,  0.98431373,\n",
       "           0.99215686,  1.        ]],\n",
       " \n",
       "        [[-1.        , -1.        , -1.        , ..., -1.        ,\n",
       "          -1.        , -1.        ],\n",
       "         [-0.99215686, -0.99215686, -0.99215686, ..., -0.99215686,\n",
       "          -0.99215686, -0.99215686],\n",
       "         [-0.98431373, -0.98431373, -0.98431373, ..., -0.98431373,\n",
       "          -0.98431373, -0.98431373],\n",
       "         ...,\n",
       "         [ 0.98431373,  0.98431373,  0.98431373, ...,  0.98431373,\n",
       "           0.98431373,  0.98431373],\n",
       "         [ 0.99215686,  0.99215686,  0.99215686, ...,  0.99215686,\n",
       "           0.99215686,  0.99215686],\n",
       "         [ 1.        ,  1.        ,  1.        , ...,  1.        ,\n",
       "           1.        ,  1.        ]]]),\n",
       " 'test_x': array([[-1.        , -1.        ],\n",
       "        [-0.99215686, -1.        ],\n",
       "        [-0.9843137 , -1.        ],\n",
       "        ...,\n",
       "        [ 0.9843137 ,  1.        ],\n",
       "        [ 0.99215686,  1.        ],\n",
       "        [ 1.        ,  1.        ]], dtype=float32),\n",
       " 'test_u': array([[-1.        ],\n",
       "        [-0.98437524],\n",
       "        [-0.9688735 ],\n",
       "        ...,\n",
       "        [ 0.9688735 ],\n",
       "        [ 0.98437524],\n",
       "        [ 1.        ]], dtype=float32),\n",
       " 'pred_u': array([[-0.9803057 ],\n",
       "        [-0.97156423],\n",
       "        [-0.9622161 ],\n",
       "        ...,\n",
       "        [ 0.95380026],\n",
       "        [ 0.9641099 ],\n",
       "        [ 0.97413254]], dtype=float32),\n",
       " 'step': array([[    1,     6,    11, ..., 19991, 19996, 20001]]),\n",
       " 'error_l2': array([[0.9801761 , 0.3721864 , 0.7352047 , ..., 0.09487573, 0.08959968,\n",
       "         0.09391098]], dtype=float32),\n",
       " 'error_l2r': array([[2.1747062 , 0.82576597, 1.6311908 , ..., 0.21049976, 0.19879386,\n",
       "         0.2083593 ]], dtype=float32),\n",
       " 'time_list': array([[5.44537067e-01, 2.17065120e+00, 3.24650955e+00, ...,\n",
       "         3.83759638e+03, 3.83857137e+03, 3.83951683e+03]]),\n",
       " 'iter_time_list': array([[0.56753659, 0.17403078, 0.17893815, ..., 0.15561056, 0.15630698,\n",
       "         0.17060447]])}"
      ]
     },
     "execution_count": 3,
     "metadata": {},
     "output_type": "execute_result"
    }
   ],
   "source": [
    "m"
   ]
  },
  {
   "cell_type": "code",
   "execution_count": 4,
   "metadata": {},
   "outputs": [
    {
     "data": {
      "text/plain": [
       "dict_keys(['__header__', '__version__', '__globals__', 'mesh', 'test_x', 'test_u', 'pred_u', 'step', 'error_l2', 'error_l2r', 'time_list', 'iter_time_list'])"
      ]
     },
     "execution_count": 4,
     "metadata": {},
     "output_type": "execute_result"
    }
   ],
   "source": [
    "m.keys()"
   ]
  },
  {
   "cell_type": "code",
   "execution_count": 5,
   "metadata": {},
   "outputs": [
    {
     "data": {
      "text/plain": [
       "array([[[-1.        , -0.99215686, -0.98431373, ...,  0.98431373,\n",
       "          0.99215686,  1.        ],\n",
       "        [-1.        , -0.99215686, -0.98431373, ...,  0.98431373,\n",
       "          0.99215686,  1.        ],\n",
       "        [-1.        , -0.99215686, -0.98431373, ...,  0.98431373,\n",
       "          0.99215686,  1.        ],\n",
       "        ...,\n",
       "        [-1.        , -0.99215686, -0.98431373, ...,  0.98431373,\n",
       "          0.99215686,  1.        ],\n",
       "        [-1.        , -0.99215686, -0.98431373, ...,  0.98431373,\n",
       "          0.99215686,  1.        ],\n",
       "        [-1.        , -0.99215686, -0.98431373, ...,  0.98431373,\n",
       "          0.99215686,  1.        ]],\n",
       "\n",
       "       [[-1.        , -1.        , -1.        , ..., -1.        ,\n",
       "         -1.        , -1.        ],\n",
       "        [-0.99215686, -0.99215686, -0.99215686, ..., -0.99215686,\n",
       "         -0.99215686, -0.99215686],\n",
       "        [-0.98431373, -0.98431373, -0.98431373, ..., -0.98431373,\n",
       "         -0.98431373, -0.98431373],\n",
       "        ...,\n",
       "        [ 0.98431373,  0.98431373,  0.98431373, ...,  0.98431373,\n",
       "          0.98431373,  0.98431373],\n",
       "        [ 0.99215686,  0.99215686,  0.99215686, ...,  0.99215686,\n",
       "          0.99215686,  0.99215686],\n",
       "        [ 1.        ,  1.        ,  1.        , ...,  1.        ,\n",
       "          1.        ,  1.        ]]])"
      ]
     },
     "execution_count": 5,
     "metadata": {},
     "output_type": "execute_result"
    }
   ],
   "source": [
    "m['mesh']"
   ]
  },
  {
   "cell_type": "code",
   "execution_count": 21,
   "metadata": {},
   "outputs": [
    {
     "data": {
      "text/plain": [
       "array([[-1.        , -1.        ],\n",
       "       [-0.99215686, -1.        ],\n",
       "       [-0.9843137 , -1.        ],\n",
       "       ...,\n",
       "       [ 0.9843137 ,  1.        ],\n",
       "       [ 0.99215686,  1.        ],\n",
       "       [ 1.        ,  1.        ]], dtype=float32)"
      ]
     },
     "execution_count": 21,
     "metadata": {},
     "output_type": "execute_result"
    }
   ],
   "source": [
    "m['test_x']"
   ]
  },
  {
   "cell_type": "code",
   "execution_count": 8,
   "metadata": {},
   "outputs": [
    {
     "data": {
      "text/plain": [
       "array([[-1.        ],\n",
       "       [-0.98437524],\n",
       "       [-0.9688735 ],\n",
       "       ...,\n",
       "       [ 0.9688735 ],\n",
       "       [ 0.98437524],\n",
       "       [ 1.        ]], dtype=float32)"
      ]
     },
     "execution_count": 8,
     "metadata": {},
     "output_type": "execute_result"
    }
   ],
   "source": [
    "m['test_u']"
   ]
  },
  {
   "cell_type": "code",
   "execution_count": 9,
   "metadata": {},
   "outputs": [
    {
     "data": {
      "text/plain": [
       "array([[-0.9803057 ],\n",
       "       [-0.97156423],\n",
       "       [-0.9622161 ],\n",
       "       ...,\n",
       "       [ 0.95380026],\n",
       "       [ 0.9641099 ],\n",
       "       [ 0.97413254]], dtype=float32)"
      ]
     },
     "execution_count": 9,
     "metadata": {},
     "output_type": "execute_result"
    }
   ],
   "source": [
    "m['pred_u']"
   ]
  },
  {
   "cell_type": "code",
   "execution_count": 19,
   "metadata": {},
   "outputs": [
    {
     "name": "stdout",
     "output_type": "stream",
     "text": [
      "(65536, 2)\n"
     ]
    }
   ],
   "source": [
    "print(m['test_x'].shape)"
   ]
  },
  {
   "cell_type": "code",
   "execution_count": 18,
   "metadata": {},
   "outputs": [
    {
     "name": "stdout",
     "output_type": "stream",
     "text": [
      "(65536, 1)\n"
     ]
    }
   ],
   "source": [
    "print(m['test_u'].shape)"
   ]
  },
  {
   "cell_type": "code",
   "execution_count": 20,
   "metadata": {},
   "outputs": [
    {
     "name": "stdout",
     "output_type": "stream",
     "text": [
      "(65536, 1)\n"
     ]
    }
   ],
   "source": [
    "print(m['pred_u'].shape)"
   ]
  },
  {
   "cell_type": "code",
   "execution_count": 32,
   "metadata": {},
   "outputs": [],
   "source": [
    "x=m['test_x']\n",
    "test_u=m['test_u']\n",
    "pred_u=m['pred_u']"
   ]
  },
  {
   "cell_type": "code",
   "execution_count": 43,
   "metadata": {},
   "outputs": [],
   "source": [
    "u1=np.zeros(655)\n",
    "for i in range(655):\n",
    "    u1[i]=test_u[i]\n",
    "u2=np.zeros(655)\n",
    "for i in range(655):\n",
    "    u2[i]=pred_u[i]"
   ]
  },
  {
   "cell_type": "code",
   "execution_count": 44,
   "metadata": {},
   "outputs": [
    {
     "data": {
      "text/plain": [
       "[<matplotlib.lines.Line2D at 0x122b83f98>]"
      ]
     },
     "execution_count": 44,
     "metadata": {},
     "output_type": "execute_result"
    },
    {
     "data": {
      "image/png": "[encoded data removed]",
      "text/plain": [
       "<Figure size 432x288 with 1 Axes>"
      ]
     },
     "metadata": {
      "needs_background": "light"
     },
     "output_type": "display_data"
    }
   ],
   "source": [
    "plt.plot(u1)\n",
    "plt.plot(u2)"
   ]
  },
  {
   "cell_type": "code",
   "execution_count": null,
   "metadata": {},
   "outputs": [],
   "source": [
    "#mesh_size=256,所以图像每256次迭代一次"
   ]
  }
 ],
 "metadata": {
  "kernelspec": {
   "display_name": "Python 3",
   "language": "python",
   "name": "python3"
  },
  "language_info": {
   "codemirror_mode": {
    "name": "ipython",
    "version": 3
   },
   "file_extension": ".py",
   "mimetype": "text/x-python",
   "name": "python",
   "nbconvert_exporter": "python",
   "pygments_lexer": "ipython3",
   "version": "3.7.3"
  }
 },
 "nbformat": 4,
 "nbformat_minor": 2
}
